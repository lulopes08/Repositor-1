{
 "cells": [
  {
   "cell_type": "code",
   "execution_count": null,
   "metadata": {},
   "outputs": [],
   "source": [
    "# Desafio Complementar 1 : Calculo IMC\n",
    "\n",
    "nome = 'Luanna Lopes'\n",
    "peso = 60\n",
    "altura = 1.51\n",
    "imc = peso / altura ** 2\n",
    "\n",
    "print(nome, 'tem', altura, 'de altura', 'e pesa', peso)\n",
    "print('o seu imc é', imc)"
   ]
  },
  {
   "cell_type": "code",
   "execution_count": null,
   "metadata": {},
   "outputs": [],
   "source": [
    "# Desafio complementar 2 : criar lista vazia com 5 numeros\n",
    "\n",
    "lista_numeros = []\n",
    "for i in range(5):\n",
    "    numero = int(input(f\"Insira o {i+1}º número inteiro: \"))\n",
    "    lista_numeros.append(numero)\n",
    "\n",
    "print(\"Lista de números inseridos:\", lista_numeros)"
   ]
  },
  {
   "cell_type": "code",
   "execution_count": null,
   "metadata": {},
   "outputs": [],
   "source": [
    "# Desafio complementar 3 : lista com nomes separados por virgulas\n",
    "\n",
    "input_str = input(\"Digite uma lista de nomes separados por virgula: \")\n",
    "\n",
    "nome_lista = input_str.split(',')\n",
    "nome_lista = [nome.strip() for nome in nome_lista]\n",
    "\n",
    "print(\"Lista de nomes:\", nome_lista)"
   ]
  }
 ],
 "metadata": {
  "kernelspec": {
   "display_name": "Python 3",
   "language": "python",
   "name": "python3"
  },
  "language_info": {
   "codemirror_mode": {
    "name": "ipython",
    "version": 3
   },
   "file_extension": ".py",
   "mimetype": "text/x-python",
   "name": "python",
   "nbconvert_exporter": "python",
   "pygments_lexer": "ipython3",
   "version": "3.11.4"
  },
  "orig_nbformat": 4
 },
 "nbformat": 4,
 "nbformat_minor": 2
}
